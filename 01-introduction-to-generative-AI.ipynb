{
 "cells": [
  {
   "cell_type": "markdown",
   "metadata": {},
   "source": [
    "# Introduction to Generative AI"
   ]
  },
  {
   "cell_type": "markdown",
   "metadata": {},
   "source": [
    "Generative AI can be used to create a variety of content including code. These are computational models which have been trained on large amounts of data. When provided with a prompt, they can generate new content that is similar to the data they were trained on. Different variations of generative AI models have been trained on different datasets and are able produce different types of output, such as:\n",
    "\n",
    "* Text (including code)\n",
    "* Image\n",
    "* Music\n",
    "* Video\n",
    "\n",
    "Understanding and creating these models is a complex process that requires a deep understanding of machine learning, neural networks, and natural language processing. In the last few years, these technologies have matured to a point where the content they generate is useful. Combined with the creation of user-friendly interfaces, these models are now accessible to a wider audience.\n",
    "\n",
    "In terms of what you need to know about how these models work, the following are important facts:\n",
    "\n",
    "* They produce things like what they were trained on. \n",
    "* They do no think or reason like humans.\n",
    "* They do not understand the content they generate.\n",
    "\n",
    "This leads to a number of different issues and considerations when using these tools."
   ]
  },
  {
   "cell_type": "markdown",
   "metadata": {},
   "source": [
    "## Limitations and Problems of Generative AI\n",
    "\n",
    "While generative AI models have many applications, they also have limitations.\n",
    "\n",
    "### Correctness\n",
    "\n",
    "Generative AI models can produce incorrect or misleading content. This can be due to errors in the model, biases or incorrect information in the training data, or the limitations of the model architecture. This makes it vital to check the output of these models and not take it at face value. For example, I asked Copilot (which is powered by OpenAI's GPT-4) to solve a simple quadratic equation:\n",
    "<center>\n",
    "<img src=\"resources/quadratic_example.png\" alt=\"Copilot failing to solve the quadratic equation\" width=\"50%\">\n",
    "</center>\n",
    "\n"
   ]
  },
  {
   "cell_type": "markdown",
   "metadata": {},
   "source": [
    "It confidently provided an incorrect answer that appeared plausible at first glance. It provided the answers of $\\frac{1}{2}$ and $-\\frac{5}{4}$ when the correct answers were 0.804 and -1.55. The model does not understand the maths behind the problem and is simply generating text that looks like text one would see in a solution to a quadratic equation.\n",
    "\n",
    "When AIs imagine false information it is known as \"hallucination\"."
   ]
  },
  {
   "cell_type": "markdown",
   "metadata": {},
   "source": [
    "### Bias\n",
    "\n",
    "Generative AI models can also produce biased content. This is commonly due to biases in the training data, which can be reflected in the output of the model. For example, I asked Copilot for a list of the top 10 famous scientists and it provided the following list:\n",
    "\n",
    "* Albert Einstein\n",
    "* Isaac Newton\n",
    "* Nikola Tesla\n",
    "* Marie Curie\n",
    "* Niels Bohr\n",
    "* James Clerk Maxwell\n",
    "* Charles Darwin\n",
    "* Galileo Galilei\n",
    "* Rosalind Franklin\n",
    "\n",
    "This list is comprised entirely of Western scientists, with no representation from other parts of the world. This is an example of bias in the output of a generative AI model and probably occurs because the internet has more information about Western scientists than scientists from other parts of the world."
   ]
  },
  {
   "cell_type": "markdown",
   "metadata": {},
   "source": [
    "### Easy to Confuse\n",
    "\n",
    "Generative AI can be misled by incorrect or ambiguous prompts. For example, I asked Copilot what the westernmost point of Europe was, and contradicted its answer:\n",
    "\n",
    "<center>\n",
    "<img src=\"resources/western_europe_example.png\" alt=\"Arguing with AI over the westernmost point of Europe\" width=\"50%\">\n",
    "</center>"
   ]
  },
  {
   "cell_type": "markdown",
   "metadata": {},
   "source": [
    "Copilot was not confident enough in its original correct answer and changed it to a different answer when I contradicted it. This means that, if you push an AI in particular direction, deliberately or accidentally, it may provide incorrect information."
   ]
  },
  {
   "cell_type": "markdown",
   "metadata": {},
   "source": [
    "### Ethics Considerations\n",
    "\n",
    "The use of Generative AI models can also raise ethical concerns:\n",
    "\n",
    "* Generative AI may be used to infringe on intellectual property rights, such as copyright or trademarks. Models may have been trained on copyrighted data, or may generate content that infringes on existing intellectual property. This can viewed as a form of stealing and can damage the livelihoods of creators.\n",
    "* Training Generative AI models requires large amounts of computational resources, which can have a significant carbon footprint. This can contribute to climate change and other environmental issues.\n",
    "* Generative AI models make it easier to create a dishonest representation of a person's abilities or knowledge. For example, a job applicant could use a generative AI model to generate a fake portfolio of work, or answer to interview questions.\n",
    "* Incorporation of content produced by generative AI models into research publications risks the introduction of hallucinations and mistakes into the scientific record. This could hamper the progress of science in the long-term."
   ]
  },
  {
   "cell_type": "markdown",
   "metadata": {},
   "source": [
    "### Academic Integrity\n",
    "\n",
    "The question of how to integrate generative AI into academic work is not simple, and is one educators are grappling with. Generative AI is a useful tool that future employees will need to be familiar with in many fields. It can also be very helpful to students learning new concepts through the generation of examples and explanations.\n",
    "\n",
    "However, it is also tempting for students to use it as a replacement for gaining their own understanding and knowledge in a topic by using it to complete assignments or exams. This can lead to a lack of understanding of the material and a lack of critical thinking skills.\n",
    "\n",
    "Different institutions have taken different approaches to this issue. Some have banned the use of generative AI tools in academic work, while others have embraced them as a tool for learning. \n",
    "\n",
    "At Imperial, you may include content generated by generative AI in your assessed work, but you must clearly cite it, just as you would any other source. This means using generative AI for writing entire essays, reports or programming assignments is not allowed. It is also impractical to use Generative AI to edit your work, or regularly generate small parts of it, as you would need to cite the AI every time.\n",
    "\n",
    "In your academic work, you should use generative AI in a responsible way that is consistent with Imperial's rules on academic integrity, and in a way that helps rather than impedes your ability to learn and perform research.\n",
    "\n",
    "If you want to know more about Imperial's rules and guidance on generative AI, there is general guidance [here](https://www.imperial.ac.uk/students/academic-support/ai-and-study-guidance-hub/) and  advice from the library on how to reference your use of generative AI tools [here](https://www.imperial.ac.uk/admin-services/library/learning-support/generative-ai-guidance/)."
   ]
  },
  {
   "cell_type": "markdown",
   "metadata": {},
   "source": [
    "## Data Security\n",
    "\n",
    "Some generative AI tools may store the prompts you provide it, and may later be trained on these prompts. This means that the prompts you send will be stored on the servers of the service provider, and it is possible that the generative AI tool will provide answers to other users based on the information you include in your prompts.\n",
    "\n",
    "This behaviour has implications for data security, and you should be aware of if and how each tool you use stores data from your prompts to ensure you comply with the data protection policies of your project and Imperial. In particular, you need to be wary of providing the following types of data in prompts to generative AI tools which store your prompts and/or are trained on your prompts:\n",
    "\n",
    "* Personal data\n",
    "* Patient data\n",
    "* Confidential data from an industrial sponsor\n",
    "* Confidential data from a government\n",
    "* Information relating to new research that you don't want to be available to others yet\n",
    "\n",
    "Regarding the last point, it could be possible for a rival research group to be tipped off to an avenue of research you're working on through a response from a generative AI tool and beat you to publication. The public availability of information about your work may also have implications for the intellectual property or potential to patent developments based on your research."
   ]
  },
  {
   "cell_type": "markdown",
   "metadata": {},
   "source": [
    "## Exercise\n",
    "\n",
    "Copilot is a powerful Generative AI Tool, based on OpenAI's GPT-4 model. Imperial has a institutional license for Copilot, giving you access to it. Follow [this link](https://copilot.microsoft.com/) to it and log in with your Imperial account. When you click your profile picture in the top right you should see the words \"Imperial College London\" and see your Imperial address. In addition, if you hover over the shield logo above the chat you should see a notice informing you the data you give to Copilot and the conversations you have are protected by [Enterprise Data Protection](https://learn.microsoft.com/en-us/copilot/microsoft-365/enterprise-data-protection).\n",
    "\n",
    "<center>\n",
    "<img src=\"resources/copilot_protection.png\" alt=\"The notice Copilot provides that your data is protected.\" width=\"50%\">\n",
    "</center>\n",
    "\n",
    "Spend a few minutes asking Copilot questions and seeing what it can do. Specifically:\n",
    "\n",
    "* Ask it questions you know the answer to, to see if it gets them right.\n",
    "* Try to confuse it by asking it questions with ambiguous or incorrect information.\n",
    "* Ask it a question you think might generate a biased answer.\n",
    "* Ask it to generate some code for you, and see if it is useful."
   ]
  }
 ],
 "metadata": {
  "language_info": {
   "name": "python"
  }
 },
 "nbformat": 4,
 "nbformat_minor": 2
}
