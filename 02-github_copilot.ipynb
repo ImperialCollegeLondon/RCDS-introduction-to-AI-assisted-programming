{
 "cells": [
  {
   "cell_type": "markdown",
   "metadata": {},
   "source": [
    "# GitHub Copilot\n",
    "\n",
    "[GitHub Copilot](https://docs.github.com/en/copilot) is a tool produced by GitHub that is powered by GPT-4. It is a separate tool to Microsoft Copilot, which you used earlier. Th overlap in name is partially due to the fact that GitHub is owned by Microsoft. \n",
    "\n",
    "Github Copilot is not a free tool, but is available for free to all students via [GitHub Education](https://github.com/edu).\n",
    "\n",
    "Copilot is designed to integrate directly with a number of different code editors, including:\n",
    "\n",
    "* [Visual Studio Code](https://marketplace.visualstudio.com/items?itemName=GitHub.copilot)\n",
    "* [Vim/NeoVim](https://docs.github.com/en/copilot/using-github-copilot/using-github-copilot-code-suggestions-in-your-editor?tool=vimneovim)\n",
    "* [Visual Studio](https://marketplace.visualstudio.com/items?itemName=GitHub.copilotvs)\n",
    "* [Jet Brains IDE](https://plugins.jetbrains.com/plugin/17718-github-copilot)\n",
    "* [R Studio](https://docs.posit.co/ide/user/ide/guide/tools/copilot.html)\n",
    "\n",
    "The fact that GitHub Copilot integrates into your editor makes it much more powerful and easier to use for programming than standalone tools like Microsoft Copilot or ChatGPT.\n",
    "\n",
    "GitHub Copilot is trained on all code stored in public repositories in GitHub.\n",
    "\n",
    "In this course, we will be using it in VS Code in relation to the Python programming language. However, Copilot supports many programming languages.\n",
    "\n",
    "In this notebook, we'll look at the Copilot interface. In future notebooks, we'll look at how to use it to achieve specific tasks when programming."
   ]
  },
  {
   "cell_type": "markdown",
   "metadata": {},
   "source": [
    "## Basic Components\n",
    "\n",
    "VS Code has many extensions that can be installed to add additional functionality. These can be accessed via the marketplace, which is accessible from the extensions tab on the left-hand side of the screen.\n",
    "\n",
    "There are two main components to GitHub Copilot are each available as separate extensions in VS Code:\n",
    "\n",
    "- **GitHub Copilot**: This provides code suggestions and completions in the editor window. The extension is [here](vscode:extension/github.copilot).\n",
    "- **GitHub Copilot Chat**: This provides a chat interface to Copilot, allowing you to ask questions and get code suggestions. It can also interact with code in the editor window. The extension is [here](vscode:extension/github.copilot-chat).\n",
    "\n",
    "These extensions are designed to work together and you will typically have both installed. If you're running this notebook in GitHub Codespaces, these extensions should already be installed. If you're running this notebook locally, you can install them by clicking the links above and clicking the \"Install\" button. in order for these extensions to work, you will need to be logged into your GitHub account in VS Code, and to have registered for the GitHub Education programme with the same account.\n",
    "\n",
    "The rest of this notebook will show you some basic examples of how to use GitHub Copilot in VS Code."
   ]
  },
  {
   "cell_type": "markdown",
   "metadata": {},
   "source": [
    "## Autocompletion\n",
    "\n",
    "If you start writing code in the editor, and Copilot will suggest completions. You can accept these completions by pressing `Tab` or `Enter` to accept the entire suggestion. Alternatively, you can press `Ctrl` and the right arrow key to select just the next word. This can be helpful if some, but not all, of the suggestion is appropriate. This autocompletion will work in a number of different contexts, including code cells in Jupyter Notebooks, or within a ```.py``` file.\n",
    "\n",
    "The autocompletion is aware of the code around your cursor, and will suggest completions based on this context. It can use functions already in the code, and can infer a likely purpose of the next piece of code based on the code that has already been written. Sometimes, writing a comment will help guide Copilot to suggest relevant code to you.\n",
    "\n",
    "<center>\n",
    "<img src=\"resources/autocomplete.gif\" alt=\"Copilot automatically completing a function\" width=\"50%\">\n",
    "</center>"
   ]
  },
  {
   "cell_type": "code",
   "execution_count": null,
   "metadata": {},
   "outputs": [],
   "source": []
  },
  {
   "cell_type": "markdown",
   "metadata": {},
   "source": [
    "# In-Editor Prompting\n",
    "\n",
    "In an empty file/code cell, VS Code will display a greyed-out piece of text as follows:\n",
    "\n",
    "<center>\n",
    "<img src=\"resources/prompt_invitation.png\" alt=\"Press Ctrl + I to ask GitHub copilot to do something. Start typing to dismiss\" width=\"50%\">\n",
    "</center>\n",
    "\n",
    "If you press `Ctrl + I`, a text box will appear into which you can write a prompt. Copilot will suggest new code, or changes to existing code based on this prompt. These may be in the form of one or more proposed changes. You may choose to accept ach of these changes by clicking the `Accept` or `Discard` buttons.\n",
    "\n",
    "<center>\n",
    "<img src=\"resources/bubble_sort.png\" alt=\"Press Ctrl + I to ask GitHub copilot to do something. Start typing to dismiss\" width=\"50%\">\n",
    "</center>\n",
    "\n",
    "You ca also highlight an existing piece of code and press `Ctrl + I` to ask Copilot to suggest changes to that code. This can be useful if you have a piece of code that you think could be improved, or if you want to see alternative ways of writing the same code.\n",
    "\n",
    "<center>\n",
    "<img src=\"resources/relative_std.gif\" alt=\"Press Ctrl + I to ask GitHub copilot to do something. Start typing to dismiss\" width=\"50%\">\n",
    "</center>\n",
    "\n",
    "When you do this, you can also click on the button next to `Accept` and `Discard` to see which code Copilot is suggesting removing for each change.\n",
    "\n",
    "There are a few standard commands that are available for prompting Copilot to do something when you have a piece of code selected. You can access these in the `Ctrl + I` interface by typing a forward slash, then the name of the command. These are:\n",
    "* ```/doc```: This will ask Copilot to generate documentation for the selected code. This will suggest changes in the editor.\n",
    "* ```explain```: This will ask Copilot to explain the selected code. It will do this in the Copilot Chat extension.\n",
    "* ```/fix``` will look for problems in the selected code and suggest fixes for them in the editor.\n",
    "* ```/test``` will ask Copilot to generate tests for the selected code. This will suggest changes in the editor, which may include creating a new file for the tests.\n",
    "\n",
    "You can also find these options by right-clicking a highlighted piece of code, and going into the `Copilot` menu.\n",
    "\n",
    "We'll look at using some of these tools later in the course."
   ]
  },
  {
   "cell_type": "code",
   "execution_count": null,
   "metadata": {},
   "outputs": [],
   "source": []
  },
  {
   "cell_type": "markdown",
   "metadata": {},
   "source": [
    "## Chatting to Copilot"
   ]
  },
  {
   "cell_type": "markdown",
   "metadata": {},
   "source": [
    "You can also chat to Copilot in a manner closer to that of a chatbot like ChatGPT. To do this, you can open the chat window by clicking on the chat icon in the activity bar at the left of the screen. The icon is shown below: \n",
    "\n",
    "<center>\n",
    "<img src=\"resources/copilot_chat_icon.png\" alt=\"Copilot Chat icon\" width=\"100px\">\n",
    "</center>\n",
    "\n",
    "You can type a message to Copilot in the window and it will respond, including suggesting code snippets where relevant. Copilot chat is limited to discussing programming. \n",
    "\n",
    "When answering questions, Copilot will be aware of code in the currently active file, or active code cell in a Jupyter notebook. This can be useful for asking for help with a specific piece of code, or for asking for suggestions on how to implement a particular feature. You can see which pieces of code Copilot Chat considered by expanding the \"Used 1 reference\" section at the start of the response.\n",
    "\n",
    "<center>\n",
    "<img src=\"resources/chat_references.png\" alt=\"Copilot Chat references\" width=\"50%\">\n",
    "</center>\n",
    "\n",
    "\n",
    "If Copilot produces a code snippet that you want to use, you can hover over the snippet and click the \"Copy\" button to copy it to the clipboard, click the \"Insert at Cursor\" button to insert at the location of the cursor in the editor, or insert it into a new file or the currently active terminal.\n",
    "\n",
    "<center>\n",
    "<img src=\"resources/chat_inserting_code.png\" alt=\"Copilot Chat copy and insert\" width=\"50%\">\n",
    "</center>\n"
   ]
  },
  {
   "cell_type": "markdown",
   "metadata": {},
   "source": [
    "If you highlight a piece of code in the editor and then open the chat window, Copilot will be aware of the highlighted code and will use it in its responses. This can be useful for asking questions about specific pieces of code. Try highlighting the code below and asking how it works, then ask how to improve it."
   ]
  },
  {
   "cell_type": "code",
   "execution_count": null,
   "metadata": {},
   "outputs": [],
   "source": [
    "def find_unique_characters(string):\n",
    "    characters = set()\n",
    "    for char in string:\n",
    "        characters.add(char)\n",
    "\n",
    "    characters = list(characters)\n",
    "    characters.sort()\n",
    "\n",
    "    return characters\n",
    "\n",
    "print(find_unique_characters(\"hello\"))\n",
    "print(find_unique_characters(\"Imperial College London\"))"
   ]
  },
  {
   "cell_type": "markdown",
   "metadata": {},
   "source": [
    "Copilot will also suggest one or more follow-on questions after it's response. If the question is interesting to you, you can click on this to ask Copilot to answer the question. \n",
    "\n",
    "<center>\n",
    "<img src=\"resources/next_question_suggestion.png\" alt=\"Copilot suggesting another question\" width=\"50%\">\n",
    "</center>"
   ]
  },
  {
   "cell_type": "markdown",
   "metadata": {},
   "source": [
    "### Other Languages\n",
    "\n",
    "You can also ask Copilot to talk to you in another language. For example, you can ask it `Can you repeat that in Welsh?` and it will respond in Welsh. This can be useful if English isn't your first language and an explanation uses language that you find difficult to understand. \n",
    "\n",
    "You can also write a question in a language of your choice into the Copilot Chat and it will reply in that language. Try highlighting code above and type in \"Explique-moi ce code\" to see how Copilot responds in French."
   ]
  },
  {
   "cell_type": "code",
   "execution_count": null,
   "metadata": {},
   "outputs": [],
   "source": []
  },
  {
   "cell_type": "markdown",
   "metadata": {},
   "source": [
    "## Privacy and Security\n",
    "\n",
    "It's important to be aware of the privacy and security implications of any Generative AI tool. If you have accessed GitHub copilot through GitHub Education, you will have received an [Individual subscription](https://docs.github.com/en/enterprise-cloud@latest/copilot/copilot-individual/about-github-copilot-individual). By default, the code you are working on, prompts you provide and responses from copilot are stored by GitHub. This is used for a [number of reasons](https://docs.github.com/en/enterprise-cloud@latest/copilot/copilot-individual/about-github-copilot-individual#how-is-the-data-in-github-copilot-individual-used-and-shared), including improving the functionality of the tool. It is [possible to reduce the amount of data stored by GitHub](https://docs.github.com/en/enterprise-cloud@latest/copilot/copilot-individual/about-github-copilot-individual#how-can-users-of-github-copilot-individual-control-use-of-their-code-snippets-data). If you are writing sensitive code, you may want to consider this. If you find yourself using a business or enterprise account, these options will be managed by your organisation and code snippet sharing will be disabled by default.\n",
    "\n",
    "As copilot is also trained on all code in public repositories in GitHub and want to avoid Copilot being trained on your code, you should also  consider [making your repositories private](https://docs.github.com/en/repositories/managing-your-repositorys-settings-and-features/managing-repository-settings/setting-repository-visibility), whether you use Copilot or not. There are several types of data you should never store in a GitHub repository, including:\n",
    "\n",
    "* Passwords\n",
    "* API keys\n",
    "* Sensitive personal information\n",
    "    * Your own data\n",
    "    * Data about others\n",
    "    * Patient data (e.g. from a medical study)\n",
    "* Other sensitive data\n",
    "    * From an industrial sponsor\n",
    "    * From a government\n",
    "\n",
    "You should also make sure that, even in the context of a private repository, you have configured Copilot to not store your code snippets if it contains any of the types of data above. Imperial provides [more information on protecting sensitive data in general](https://www.imperial.ac.uk/research-and-innovation/support-for-staff/scholarly-communication/research-data-management/data-storage-and-security/storing-sensitive-and-personal-data/).\n"
   ]
  },
  {
   "cell_type": "markdown",
   "metadata": {},
   "source": [
    "## Reducing Plagiarism\n",
    "\n",
    "By default, GitHub can provide code which exactly matches code in public repositories. This can include code that is under a license that prevents duplication and/or modification of the code. The fact that GitHub can do this is an ethical issue with potential legal implications that have not been fully explored yet. You can [instruct GitHub](https://docs.github.com/en/copilot/configuring-github-copilot/configuring-github-copilot-settings-on-githubcom#enabling-or-disabling-duplication-detection) to not precisely replicate code stored in public repositories. This can reduce the risk of unintentional plagiarism.\n",
    "\n",
    "However, the code suggested by GitHub will still be inspired by the code in public repositories, including code under a license which prevents duplication and/or modification. This can still be considering an ethical issue, but most would consider it a lesser issue that outright duplication of the code.\n",
    "\n",
    "The ethics and legality of generative AI of all sorts are a matter of debate in the context of plagiarism. As a result, there is not a \"correct\" stance to communicate to you, but it is an issue you should be aware of and consider."
   ]
  },
  {
   "cell_type": "markdown",
   "metadata": {},
   "source": [
    "## Exercise\n",
    "\n",
    "in the code cell below, experiment with some of the ways of using Copilot that we have discussed in this notebook. Include the following activities:\n",
    "\n",
    "* Use the `Ctrl + I` interface to ask Copilot to generate a function from scratch.\n",
    "* Use the `Ctrl + I` interface to ask Copilot a question about an existing piece of code.\n",
    "* Use autocomplete to complete a function that you have started writing.\n",
    "* Ask Copilot Chat a general question about programming.\n",
    "* Ask Copilot Chat a question about a specific piece of code.\n",
    "* Insert some code produced by Copilot Chat into the code cell."
   ]
  },
  {
   "cell_type": "code",
   "execution_count": null,
   "metadata": {},
   "outputs": [],
   "source": []
  }
 ],
 "metadata": {
  "kernelspec": {
   "display_name": "Python 3",
   "language": "python",
   "name": "python3"
  },
  "language_info": {
   "codemirror_mode": {
    "name": "ipython",
    "version": 3
   },
   "file_extension": ".py",
   "mimetype": "text/x-python",
   "name": "python",
   "nbconvert_exporter": "python",
   "pygments_lexer": "ipython3",
   "version": "3.11.9"
  }
 },
 "nbformat": 4,
 "nbformat_minor": 2
}
