{
 "cells": [
  {
   "cell_type": "markdown",
   "metadata": {},
   "source": [
    "# GitHub Copilot\n",
    "\n",
    "[GitHub Copilot](https://docs.github.com/en/copilot) is a tool produced by GitHub that is powered by GPT-4. It is a separate tool to [Microsoft Copilot](https://copilot.microsoft.com/). The overlap in name is partially due to the fact that GitHub is owned by Microsoft. \n",
    "\n",
    "Github Copilot is [free for limited use](https://docs.github.com/en/copilot/managing-copilot/managing-copilot-as-an-individual-subscriber/about-github-copilot-free), but the unlimited version is available for free to all students and staff at universities via [GitHub Education](https://github.com/edu).\n",
    "\n",
    "Copilot is designed to integrate directly with a number of different code editors, including:\n",
    "\n",
    "* [Visual Studio Code](https://marketplace.visualstudio.com/items?itemName=GitHub.copilot)\n",
    "* [Vim/NeoVim](https://docs.github.com/en/copilot/using-github-copilot/using-github-copilot-code-suggestions-in-your-editor?tool=vimneovim)\n",
    "* [Visual Studio](https://marketplace.visualstudio.com/items?itemName=GitHub.copilotvs)\n",
    "* [Jet Brains IDE](https://plugins.jetbrains.com/plugin/17718-github-copilot)\n",
    "* [R Studio](https://docs.posit.co/ide/user/ide/guide/tools/copilot.html)\n",
    "* [Xcode](https://docs.github.com/en/copilot/managing-copilot/configure-personal-settings/installing-the-github-copilot-extension-in-your-environment?tool=xcode)\n",
    "* [Azure Data Studio](https://docs.github.com/en/copilot/managing-copilot/configure-personal-settings/installing-the-github-copilot-extension-in-your-environment?tool=azure_data_studio)\n",
    "\n",
    "The fact that GitHub Copilot integrates into your editor makes it much more powerful and easier to use for programming than standalone tools like Microsoft Copilot or ChatGPT.\n",
    "\n",
    "GitHub Copilot is trained on all code stored in public repositories in GitHub.\n",
    "\n",
    "In this course, we will be using it in VS Code in relation to the Python programming language. However, Copilot supports many programming languages.\n",
    "\n",
    "In this notebook, we'll look at the Copilot interface. In future notebooks, we'll look at how to use it to achieve specific tasks when programming."
   ]
  },
  {
   "cell_type": "markdown",
   "metadata": {},
   "source": [
    "## Basic Components\n",
    "\n",
    "VS Code has many extensions that can be installed to add additional functionality. These can be accessed via the marketplace, which is accessible from the extensions tab on the left-hand side of the screen.\n",
    "\n",
    "There are two main components to GitHub Copilot are each available as separate extensions in VS Code:\n",
    "\n",
    "- **GitHub Copilot**: This provides code suggestions and completions in the editor window. The extension is [here](vscode:extension/github.copilot).\n",
    "- **GitHub Copilot Chat**: This provides a chat interface to Copilot, allowing you to ask questions and get code suggestions. It can also interact with code in the editor window. The extension is [here](vscode:extension/github.copilot-chat).\n",
    "\n",
    "These extensions are designed to work together and you will typically have both installed. If you're running this notebook in GitHub Codespaces, these extensions should already be installed. If you're running this notebook locally, you can install them by clicking the links above and clicking the \"Install\" button. In order for these extensions to work, you will need to be logged into your GitHub account in VS Code. If you have registered for GitHub Education or have the unlimited version of Copilot from another source, logging into GitHub will also allow you to access these benefits.\n",
    "\n",
    "The rest of this notebook will show you some basic examples of how to use GitHub Copilot in VS Code."
   ]
  },
  {
   "cell_type": "markdown",
   "metadata": {},
   "source": [
    "## Autocompletion\n",
    "\n",
    "If you start writing code in the editor, and Copilot will suggest completions. You can accept these completions by pressing `Tab` or `Enter` to accept the entire suggestion. Alternatively, you can press `Ctrl` and the right arrow key to select just the next word. This can be helpful if some, but not all, of the suggestion is appropriate. This autocompletion will work in a number of different contexts, including code cells in Jupyter Notebooks, or within a ```.py``` file.\n",
    "\n",
    "The autocompletion is aware of the code around your cursor, and will suggest completions based on this context. It can use functions already in the code, and can infer a likely purpose of the next piece of code based on the code that has already been written. Sometimes, writing a comment will help guide Copilot to suggest relevant code to you.\n",
    "\n",
    "Try writing some code using Copilot in the code cell below."
   ]
  },
  {
   "cell_type": "code",
   "execution_count": null,
   "metadata": {},
   "outputs": [],
   "source": []
  },
  {
   "cell_type": "markdown",
   "metadata": {},
   "source": [
    "# In-Editor Prompting\n",
    "\n",
    "You can ask Copilot a question in the context of a place where you write code such as a source file, or a cell in a Jupyter notebook. When your cursor is in one of these locations, press `Ctrl + I`, and a text box will appear into which you can write a prompt. Copilot will suggest new code, or changes to existing code based on this prompt. These may be in the form of one or more proposed changes. You may choose to accept ach of these changes by clicking the `Accept` or `Discard` buttons.\n",
    "\n",
    "In the cell below, ask Copilot to write a function which takes a list of numbers as input and sorts them using the bubble sort algorithm."
   ]
  },
  {
   "cell_type": "code",
   "execution_count": null,
   "metadata": {},
   "outputs": [],
   "source": []
  },
  {
   "cell_type": "markdown",
   "metadata": {},
   "source": [
    "You can also highlight an existing piece of code and press `Ctrl + I` to ask Copilot to suggest changes to that code. This can be useful if you have a piece of code that you think could be improved, or if you want to see alternative ways of writing the same code.When you do this, you can also click on the chevron with the tooltip \"More Actions\", then \"Toggle Changes\" to see what Copilot is suggesting removing and adding, which can be very useful for understanding more complex changes. If you want to discard the changes, press escape while the code cell is active.\n",
    "\n",
    "The code cell below contains a simple function which calcualtes the standard deviation of a list of numbers. Highlight the function and press `Ctrl + I` to ask Copilot to rewrite the code assuming `data` is a Numpy array. Review the changes it proposes, then accept them."
   ]
  },
  {
   "cell_type": "code",
   "execution_count": null,
   "metadata": {},
   "outputs": [],
   "source": [
    "def relative_std_deviation(data):\n",
    "    mean = sum(data) / len(data)\n",
    "    stddev = (sum([(x - mean) ** 2 for x in data]) / len(data)) ** 0.5\n",
    "    return stddev / mean"
   ]
  },
  {
   "cell_type": "markdown",
   "metadata": {},
   "source": [
    "There are a few standard commands that are available for prompting Copilot to do something when you have a piece of code selected. You can access these in the `Ctrl + I` interface by typing a forward slash, then the name of the command. These are:\n",
    "* ```/doc```: This will ask Copilot to generate documentation for the selected code. This will suggest changes in the editor.\n",
    "* ```/explain```: This will ask Copilot to explain the selected code.\n",
    "* ```/fix``` will look for problems in the selected code and suggest fixes for them in the editor.\n",
    "* ```/test``` will ask Copilot to generate tests for the selected code. This will suggest changes in the editor, which may include creating a new file for the tests.\n",
    "\n",
    "You can also find these options by right-clicking a highlighted piece of code, and going into the `Copilot` menu.\n",
    "\n",
    "We'll look at using some of these options later in the course."
   ]
  },
  {
   "cell_type": "markdown",
   "metadata": {},
   "source": [
    "## Chatting to Copilot\n",
    "\n",
    "You can also chat to Copilot in a manner closer to that of a chatbot like ChatGPT. To do this, you can open the chat window by clicking on the icon at the top of the screen and selecting \"Open Chat\": \n",
    "\n",
    "<center>\n",
    "<img src=\"resources/copilot_chat_icon.png\" alt=\"Copilot Chat icon\" width=\"400px\">\n",
    "</center>\n",
    "\n",
    "You can type a message to Copilot in the window and it will respond, including suggesting code snippets where relevant. Copilot chat is limited to discussing programming. \n",
    "\n",
    "### Context\n",
    "\n",
    "When answering questions, Copilot will consider code that is available as context. By clicking on the paperclip at the bottom of the text box, we can can tell Copilot which pieces of code to consider by selecting from the dropdown menu at the top of the screen. \n",
    "\n",
    "<center>\n",
    "<img src=\"resources/chat_context.png\" alt=\"The interface for selecting context\" width=\"50%\">\n",
    "</center>\n",
    "\n",
    "Some notable options include:\n",
    "\n",
    "* Codebase: Selects the entire project\n",
    "* Current editor: The currently open file\n",
    "* Selection: The code currently selected in the editor\n",
    "\n",
    "By adding the correct context, we can tell Copilot which bits of our project we are asking it about.\n",
    "\n",
    "Try highlighting the code below, adding it as context and asking Copilot how it works."
   ]
  },
  {
   "cell_type": "code",
   "execution_count": null,
   "metadata": {},
   "outputs": [],
   "source": [
    "def find_unique_characters(string):\n",
    "    characters = set()\n",
    "    for char in string:\n",
    "        characters.add(char)\n",
    "\n",
    "    characters = list(characters)\n",
    "    characters.sort()\n",
    "\n",
    "    return characters\n",
    "\n",
    "print(find_unique_characters(\"hello\"))\n",
    "print(find_unique_characters(\"Imperial College London\"))"
   ]
  },
  {
   "cell_type": "markdown",
   "metadata": {},
   "source": [
    "### Other Options\n",
    "\n",
    "The \"@\" symbol next to the paperclip allows Copilot to interact with other tools in your editor such as the terminal or the search function in VS Code. The dropdown menu in the box allows you to select which AI model to interact with. In the image above GPT 4o is the default.\n",
    "\n",
    "### Using Generated Code\n",
    "\n",
    "If Copilot produces a code snippet that you want to use, you can hover over the snippet to see a number of ways of interacting with the code:\n",
    "* Apply in editor: Inser the code in a context sensitive way. May insert a new code cell in a Jupyter Notebook\n",
    "* Insert at Cursor: Inserts the code wherever the cursor is\n",
    "* Copy: copies the code to the clipboard\n",
    "* More actions: allows you to:\n",
    "  * Insert into an active terminal\n",
    "  * Insert into a new file\n",
    "\n",
    "<center>\n",
    "<img src=\"resources/chat_inserting_code.png\" alt=\"Copilot Chat copy and insert\" width=\"50%\">\n",
    "</center>\n"
   ]
  },
  {
   "cell_type": "code",
   "execution_count": null,
   "metadata": {},
   "outputs": [],
   "source": []
  },
  {
   "cell_type": "markdown",
   "metadata": {},
   "source": [
    "### Follow-Up Questions\n",
    "\n",
    "Copilot will remember what was just discussed and so it's possible to ask follow-on questions. Copilot will also sometimes suggest one or more follow-on questions after it's response. If the question is interesting to you, you can click on this to ask Copilot to answer the question.\n",
    "\n",
    "<center>\n",
    "<img src=\"resources/next_question_suggestion.png\" alt=\"Copilot suggesting another question\" width=\"50%\">\n",
    "</center>\n",
    "\n",
    "### Other Languages\n",
    "\n",
    "You can also ask Copilot to talk to you in another language. For example, you can ask it `Can you repeat that in Welsh?` and it will respond in Welsh. This can be useful if English isn't your first language and an explanation uses language that you find difficult to understand. \n",
    "\n",
    "You can also write a question in a language of your choice into the Copilot Chat and it will reply in that language. Try highlighting the function ```find_unique_characters``` above, add it as context and type in \"Explique-moi ce code\" to see how Copilot responds in French."
   ]
  },
  {
   "cell_type": "markdown",
   "metadata": {},
   "source": [
    "## Privacy and Security\n",
    "\n",
    "It's important to be aware of the privacy and security implications of any Generative AI tool. By default, the code you are working on, prompts you provide and responses from copilot are [stored by GitHub](https://docs.github.com/en/site-policy/privacy-policies/github-general-privacy-statement#personal-data-we-collect). This is used for a [number of reasons](https://docs.github.com/en/site-policy/privacy-policies/github-general-privacy-statement#processing-purposes-how-we-use-your-personal-data), including improving the functionality of the tool. \n",
    "\n",
    "Many settings relating to how Copilot manage your data can be set in your Copilot settings page on the [GitHub website](https://github.com/settings/copilot) It is possible insturct [Copilot not to save the code Copilot examines or your prompts](https://docs.github.com/en/copilot/managing-copilot/managing-copilot-as-an-individual-subscriber/managing-copilot-policies-as-an-individual-subscriber#enabling-or-disabling-prompt-and-suggestion-collection) by unchecking the box `Allow GitHub to use my data for product improvements` in your settings page. If you are writing sensitive code, you may want to consider this. If you find yourself using a business or enterprise account, these options will be managed by your organisation and code snippet sharing will be disabled by default.\n",
    "\n",
    "As Copilot is also trained on all code in public repositories in GitHub, if you want to avoid Copilot being trained on your code, you should also  consider [making your repositories private](https://docs.github.com/en/repositories/managing-your-repositorys-settings-and-features/managing-repository-settings/setting-repository-visibility), whether you use Copilot or not. There are several types of data you should never store in a public GitHub repository, including:\n",
    "\n",
    "* Passwords\n",
    "* API keys\n",
    "* Sensitive personal information\n",
    "    * Your own data\n",
    "    * Data about others\n",
    "    * Patient data (e.g. from a medical study)\n",
    "* Other sensitive data\n",
    "    * From an industrial sponsor\n",
    "    * From a government\n",
    "\n",
    "You should also make sure that, even in the context of a private repository, you have configured Copilot to not store your code snippets if it contains any of the types of data above. Imperial provides [more information on protecting sensitive data in general](https://www.imperial.ac.uk/research-and-innovation/support-for-staff/scholarly-communication/research-data-management/data-storage-and-security/storing-sensitive-and-personal-data/).\n"
   ]
  },
  {
   "cell_type": "markdown",
   "metadata": {},
   "source": [
    "## Reducing Plagiarism\n",
    "\n",
    "By default, GitHub can provide code which exactly matches code in public repositories. This can include code that is under a license that prevents duplication and/or modification of the code. The fact that GitHub can do this is an ethical issue with potential legal implications that have not been fully explored yet. You can instruct GitHub to [not precisely replicate code stored in public repositories](https://docs.github.com/en/copilot/managing-copilot/managing-copilot-as-an-individual-subscriber/managing-copilot-policies-as-an-individual-subscriber#enabling-or-disabling-suggestions-matching-public-code) by changing the option `Suggestions matching public code (duplication detection filter)` in your settings page to \"Blocked\". This can reduce the risk of unintentional plagiarism.\n",
    "\n",
    "However, the code suggested by GitHub will still be inspired by the code in public repositories, including code under a license which prevents duplication and/or modification. This can still be considering an ethical issue, but most would consider it a lesser issue that outright duplication of the code.\n",
    "\n",
    "The ethics and legality of generative AI of all sorts are a matter of debate in the context of plagiarism. As a result, there is not a \"correct\" stance to communicate to you, but it is an issue you should be aware of and consider."
   ]
  },
  {
   "cell_type": "markdown",
   "metadata": {},
   "source": [
    "## Exercise\n",
    "\n",
    "in the code cell below, experiment with some of the ways of using Copilot that we have discussed in this notebook. Include the following activities:\n",
    "\n",
    "* Use the `Ctrl + I` interface to ask Copilot to generate a function from scratch.\n",
    "* Use the `Ctrl + I` interface to ask Copilot a question about an existing piece of code.\n",
    "* Use autocomplete to complete a function that you have started writing.\n",
    "* Ask Copilot Chat a general question about programming.\n",
    "* Ask Copilot Chat a question about a specific piece of code.\n",
    "* Insert some code produced by Copilot Chat into the code cell."
   ]
  },
  {
   "cell_type": "code",
   "execution_count": null,
   "metadata": {},
   "outputs": [],
   "source": []
  }
 ],
 "metadata": {
  "kernelspec": {
   "display_name": "Python 3",
   "language": "python",
   "name": "python3"
  },
  "language_info": {
   "codemirror_mode": {
    "name": "ipython",
    "version": 3
   },
   "file_extension": ".py",
   "mimetype": "text/x-python",
   "name": "python",
   "nbconvert_exporter": "python",
   "pygments_lexer": "ipython3",
   "version": "3.13.2"
  }
 },
 "nbformat": 4,
 "nbformat_minor": 2
}
