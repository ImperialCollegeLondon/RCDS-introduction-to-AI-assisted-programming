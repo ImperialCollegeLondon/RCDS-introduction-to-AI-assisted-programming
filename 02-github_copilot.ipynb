{
 "cells": [
  {
   "cell_type": "markdown",
   "metadata": {},
   "source": [
    "# GitHub Copilot\n",
    "\n",
    "[GitHub Copilot](https://docs.github.com/en/copilot) is a tool produced by GitHub that is powered by GPT-4. It is a separate tool to [Microsoft Copilot](https://copilot.microsoft.com/). The overlap in name is partially due to the fact that GitHub is owned by Microsoft. \n",
    "\n",
    "Github Copilot is [free for limited use](https://docs.github.com/en/copilot/managing-copilot/managing-copilot-as-an-individual-subscriber/about-github-copilot-free), but the unlimited version is available for free to all students and staff at universities via [GitHub Education](https://github.com/edu).\n",
    "\n",
    "Copilot is designed to integrate directly with a number of different code editors, including:\n",
    "\n",
    "* [Visual Studio Code](https://marketplace.visualstudio.com/items?itemName=GitHub.copilot)\n",
    "* [Vim/NeoVim](https://docs.github.com/en/copilot/using-github-copilot/using-github-copilot-code-suggestions-in-your-editor?tool=vimneovim)\n",
    "* [Visual Studio](https://marketplace.visualstudio.com/items?itemName=GitHub.copilotvs)\n",
    "* [Jet Brains IDE](https://plugins.jetbrains.com/plugin/17718-github-copilot)\n",
    "* [R Studio](https://docs.posit.co/ide/user/ide/guide/tools/copilot.html)\n",
    "* [Xcode](https://docs.github.com/en/copilot/managing-copilot/configure-personal-settings/installing-the-github-copilot-extension-in-your-environment?tool=xcode)\n",
    "* [Azure Data Studio](https://docs.github.com/en/copilot/managing-copilot/configure-personal-settings/installing-the-github-copilot-extension-in-your-environment?tool=azure_data_studio)\n",
    "\n",
    "The fact that GitHub Copilot integrates into your editor makes it much more powerful and easier to use for programming than standalone tools like Microsoft Copilot or ChatGPT.\n",
    "\n",
    "GitHub Copilot is trained on all code stored in public repositories in GitHub.\n",
    "\n",
    "In this course, we will be using it in VS Code in relation to the Python programming language. However, Copilot supports many programming languages.\n",
    "\n",
    "In this notebook, we'll look at the Copilot interface. In future notebooks, we'll look at how to use it to achieve specific tasks when programming."
   ]
  },
  {
   "cell_type": "markdown",
   "metadata": {},
   "source": [
    "## Basic Components\n",
    "\n",
    "VS Code has many extensions that can be installed to add additional functionality. These can be accessed via the marketplace, which is accessible from the extensions tab on the left-hand side of the screen.\n",
    "\n",
    "There are two main components to GitHub Copilot are each available as separate extensions in VS Code:\n",
    "\n",
    "- **GitHub Copilot**: This provides code suggestions and completions in the editor window. The extension is [here](vscode:extension/github.copilot).\n",
    "- **GitHub Copilot Chat**: This provides a chat interface to Copilot, allowing you to ask questions and get code suggestions. It can also interact with code in the editor window. The extension is [here](vscode:extension/github.copilot-chat).\n",
    "\n",
    "These extensions are designed to work together and you will typically have both installed. If you're running this notebook in GitHub Codespaces, these extensions should already be installed. If you're running this notebook locally, you can install them by clicking the links above and clicking the \"Install\" button. In order for these extensions to work, you will need to be logged into your GitHub account in VS Code. If you have registered for GitHub Education or have the unlimited version of Copilot from another source, logging into GitHub will also allow you to access these benefits.\n",
    "\n",
    "The rest of this notebook will show you some basic examples of how to use GitHub Copilot in VS Code."
   ]
  },
  {
   "cell_type": "markdown",
   "metadata": {},
   "source": [
    "## Autocompletion\n",
    "\n",
    "If you start writing code in the editor, and Copilot will suggest completions. You can accept these completions by pressing `Tab` or `Enter` to accept the entire suggestion. Alternatively, you can press `Ctrl` and the right arrow key to select just the next word. This can be helpful if some, but not all, of the suggestion is appropriate. This autocompletion will work in a number of different contexts, including code cells in Jupyter Notebooks, or within a ```.py``` file.\n",
    "\n",
    "The autocompletion is aware of the code around your cursor, and will suggest completions based on this context. It can use functions already in the code, and can infer a likely purpose of the next piece of code based on the code that has already been written. Sometimes, writing a comment will help guide Copilot to suggest relevant code to you.\n",
    "\n",
    "Try writing some code using Copilot in the code cell below."
   ]
  },
  {
   "cell_type": "code",
   "execution_count": null,
   "metadata": {},
   "outputs": [],
   "source": []
  },
  {
   "cell_type": "markdown",
   "metadata": {},
   "source": [
    "## Chatting to Copilot\n",
    "\n",
    "You can also chat to Copilot in a manner closer to that of a chatbot like ChatGPT. To do this, you can open the chat window by clicking on the icon at the top of the screen and selecting \"Open Chat\": \n",
    "\n",
    "<center>\n",
    "<img src=\"resources/copilot_chat_icon.png\" alt=\"Copilot Chat icon\" width=\"400px\">\n",
    "</center>\n",
    "\n",
    "You can type a message to Copilot in the window and it will respond, including suggesting code snippets where relevant. Copilot chat is limited to discussing programming. \n",
    "\n",
    "### Context\n",
    "\n",
    "When answering questions, Copilot will consider code that is available as context. By clicking on the paperclip at the bottom of the text box, we can can tell Copilot which pieces of code to consider by selecting from the dropdown menu at the top of the screen. \n",
    "\n",
    "<center>\n",
    "<img src=\"resources/chat_context.png\" alt=\"The interface for selecting context\" width=\"50%\">\n",
    "</center>\n",
    "\n",
    "By adding the correct context, we can tell Copilot which bits of our project we are asking it about. When we highlight a piece of code, we also have the option to add it as context by clicking the button in the text entry box.\n",
    "\n",
    "Try highlighting the code below, adding it as context and asking Copilot how it works."
   ]
  },
  {
   "cell_type": "code",
   "execution_count": null,
   "metadata": {},
   "outputs": [],
   "source": [
    "def find_unique_characters(string):\n",
    "    characters = set()\n",
    "    for char in string:\n",
    "        characters.add(char)\n",
    "\n",
    "    characters = list(characters)\n",
    "    characters.sort()\n",
    "\n",
    "    return characters\n",
    "\n",
    "print(find_unique_characters(\"hello\"))\n",
    "print(find_unique_characters(\"Imperial College London\"))"
   ]
  },
  {
   "cell_type": "markdown",
   "metadata": {},
   "source": [
    "### Using Generated Code\n",
    "\n",
    "When generating code, Copilot will sometimes propose these changes directly in the editor. When this happens, the changes will be displayed in your editor with new code highlighted in green and old code highlighted in red. You can accept or reject an individual change by hovering over it and clicking the tick or undo buttons. You can also accept or reject the whole suite of changes by clicking \"Keep\" or \"Undo\" at the bottom of the page. You can also give further prompts to refine what has been proposed.\n",
    "\n",
    "<center>\n",
    "<img src=\"resources/in_editors_changes_interface.png\" alt=\"The interface Copilot uses to suggest edits.\" width=\"70%\">\n",
    "</center>\n",
    "\n",
    "\n",
    "Try highlighting the code cell in the section above and asking Copilot to improve the code in the chat window."
   ]
  },
  {
   "cell_type": "markdown",
   "metadata": {},
   "source": [
    "### Copilot Modes\n",
    "\n",
    "Copilot can behave in different [modes](https://github.blog/ai-and-ml/github-copilot/copilot-ask-edit-and-agent-modes-what-they-do-and-when-to-use-them/). You can select the mode by clicking on the mode indicator in the text box of the chat window.\n",
    "\n",
    "<center>\n",
    "<img src=\"resources/copilot_mode_toggle.png\" alt=\"The toggle to switch between Copilot modes.\" width=\"70%\">\n",
    "</center>\n",
    "\n",
    "* Ask: Talk purely in the chat window. Can see your code but won't propose changes in the editor.\n",
    "* Edit: Can propose changes in the editor as well as chatting.\n",
    "* Agent: Can autonomously explore your project, finding relevant files (even when not added as context). Can propose and execute large-scale changes autonomously. Can run tools and code (for example to lint the code, run tests, or execute terminal commands)."
   ]
  },
  {
   "cell_type": "markdown",
   "metadata": {},
   "source": [
    "### Models\n",
    "\n",
    "Copilot supports many models, and you can choose between them by clicking the toggle.\n",
    "\n",
    "<center>\n",
    "<img src=\"resources/copilot_model_toggle.png\" alt=\"The toggle to switch between models.\" width=\"70%\">\n",
    "</center>\n",
    "\n",
    "Some models will have a value such as \"x0\" or \"x1.5\" next to them. These represent how [much they count toward](https://docs.github.com/en/copilot/reference/ai-models/supported-models#model-multipliers) your premium request allowance. If you are using Copilot Pro through GitHub Education, you will have a reasonable allowance that can be used on using the premium models. This is sufficient for using premium models at a moderate rate. You can view your usage [here](https://github.com/settings/copilot).\n",
    "\n",
    "Different models are better at different things. You may want to experiment with the various options to find the best fit for your specific use case and level of programming experience."
   ]
  },
  {
   "cell_type": "markdown",
   "metadata": {},
   "source": [
    "## Privacy and Security\n",
    "\n",
    "It's important to be aware of the privacy and security implications of any Generative AI tool. By default, the code you are working on, prompts you provide and responses from copilot are [stored by GitHub](https://docs.github.com/en/site-policy/privacy-policies/github-general-privacy-statement#personal-data-we-collect). This is used for a [number of reasons](https://docs.github.com/en/site-policy/privacy-policies/github-general-privacy-statement#processing-purposes-how-we-use-your-personal-data), including improving the functionality of the tool. \n",
    "\n",
    "Many settings relating to how Copilot manage your data can be set in your Copilot settings page on the [GitHub website](https://github.com/settings/copilot) It is possible insturct [Copilot not to save the code Copilot examines or your prompts](https://docs.github.com/en/copilot/managing-copilot/managing-copilot-as-an-individual-subscriber/managing-copilot-policies-as-an-individual-subscriber#enabling-or-disabling-prompt-and-suggestion-collection) by unchecking the box `Allow GitHub to use my data for product improvements` in your settings page. If you are writing sensitive code, you may want to consider this. If you find yourself using a business or enterprise account, these options will be managed by your organisation and code snippet sharing will be disabled by default.\n",
    "\n",
    "As Copilot is also trained on all code in public repositories in GitHub, if you want to avoid Copilot being trained on your code, you should also  consider [making your repositories private](https://docs.github.com/en/repositories/managing-your-repositorys-settings-and-features/managing-repository-settings/setting-repository-visibility), whether you use Copilot or not. There are several types of data you should never store in a public GitHub repository, including:\n",
    "\n",
    "* Passwords\n",
    "* API keys\n",
    "* Sensitive personal information\n",
    "    * Your own data\n",
    "    * Data about others\n",
    "    * Patient data (e.g. from a medical study)\n",
    "* Other sensitive data\n",
    "    * From an industrial sponsor\n",
    "    * From a government\n",
    "\n",
    "You should also make sure that, even in the context of a private repository, you have configured Copilot to not store your code snippets if it contains any of the types of data above. Imperial provides [more information on protecting sensitive data in general](https://www.imperial.ac.uk/research-and-innovation/support-for-staff/scholarly-communication/research-data-management/data-storage-and-security/storing-sensitive-and-personal-data/).\n"
   ]
  },
  {
   "cell_type": "markdown",
   "metadata": {},
   "source": [
    "## Reducing Plagiarism\n",
    "\n",
    "By default, GitHub can provide code which exactly matches code in public repositories. This can include code that is under a license that prevents duplication and/or modification of the code. The fact that GitHub can do this is an ethical issue with potential legal implications that have not been fully explored yet. You can instruct GitHub to [not precisely replicate code stored in public repositories](https://docs.github.com/en/copilot/managing-copilot/managing-copilot-as-an-individual-subscriber/managing-copilot-policies-as-an-individual-subscriber#enabling-or-disabling-suggestions-matching-public-code) by changing the option `Suggestions matching public code (duplication detection filter)` in your [settings page](https://github.com/settings/copilot/features) to \"Blocked\". This can reduce the risk of unintentional plagiarism.\n",
    "\n",
    "However, the code suggested by GitHub will still be inspired by the code in public repositories, including code under a license which prevents duplication and/or modification. This can still be considering an ethical issue, but most would consider it a lesser issue that outright duplication of the code.\n",
    "\n",
    "The ethics and legality of generative AI of all sorts are a matter of debate in the context of plagiarism. As a result, there is not a \"correct\" stance to communicate to you, but it is an issue you should be aware of and consider."
   ]
  },
  {
   "cell_type": "markdown",
   "metadata": {},
   "source": [
    "## Exercise\n",
    "\n",
    "Take some time to get used to the Copilot interface. You might try to:\n",
    "\n",
    "* Use autocomplete to complete a function that you have started writing.\n",
    "* Ask Copilot Chat a general question about programming.\n",
    "* Ask Copilot Chat a question about a specific piece of code.\n",
    "* Add some new code generated by asking a question in the chat window to the code cell below."
   ]
  },
  {
   "cell_type": "code",
   "execution_count": null,
   "metadata": {},
   "outputs": [],
   "source": []
  }
 ],
 "metadata": {
  "kernelspec": {
   "display_name": "Python 3",
   "language": "python",
   "name": "python3"
  },
  "language_info": {
   "codemirror_mode": {
    "name": "ipython",
    "version": 3
   },
   "file_extension": ".py",
   "mimetype": "text/x-python",
   "name": "python",
   "nbconvert_exporter": "python",
   "pygments_lexer": "ipython3",
   "version": "3.13.2"
  }
 },
 "nbformat": 4,
 "nbformat_minor": 2
}
