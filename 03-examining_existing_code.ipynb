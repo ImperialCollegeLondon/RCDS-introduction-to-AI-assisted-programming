{
 "cells": [
  {
   "cell_type": "markdown",
   "metadata": {},
   "source": [
    "# Examining Existing Code\n",
    "\n",
    "One way we can use Copilot is to understand existing code. This can be useful when we receive someone else's code, when try to understand new code from another source (such as examples from the web), or when Copilot or another tool has generated code for us. Using Copilot, or a similar tool to explain the code can help us to understand it and integrate it into our own codebase, and to expand our knowledge of what is possible in the language."
   ]
  },
  {
   "cell_type": "markdown",
   "metadata": {},
   "source": [
    "## Understanding Functions\n",
    "\n",
    "The easiest way to get an explanation of the code is by highlighting it then writing a message in the Copilot chat asking it to explain it. Copilot will often try to break it down into stages, giving a high-level explanation. Some useful follow-up questions might be:\n",
    "\n",
    "* What problem does the code solve?\n",
    "* When might I use this code? \n",
    "* What does the line containing [X] do?\n",
    "* Which of these functions should I call to achieve [X]?\n",
    "* What does the syntax [X] mean?\n",
    "* Tell me more about the function [X].\n",
    "* What information does the variable [X] hold?\n",
    "* What data type is variable [X]?\n",
    "* What is the purpose of the function [X]?\n",
    "\n",
    "There are a lot of questions you could ask - the key is to take a moment to consider the code, what you understand, what you don't, and how you want to use the code.\n",
    "\n",
    "In general, Copilot will give better explanations to smaller pieces of code. If the code is thousands of lines spread across multiple source files, it may struggle to give a coherent explanation that identifies the key points of the code.\n",
    "\n",
    "### Exercise: Understanding Code\n",
    "\n",
    "The code cell below contains some code that you might not understand completely. It deliberately lacks comments and documentation, although the variable names are reasonable. Ask Copilot to explain this code to you. Ask any follow-up questions you think are relevant and would help you understand the code better. If there are any bits of syntax you don't understand, ask Copilot to explain those too."
   ]
  },
  {
   "cell_type": "code",
   "execution_count": null,
   "metadata": {},
   "outputs": [],
   "source": [
    "from scipy.integrate import solve_ivp\n",
    "import numpy as np\n",
    "import matplotlib.pyplot as plt\n",
    "import math\n",
    "\n",
    "def get_shm_motion(output_times, spring_constant, mass, initial_position=0, initial_velocity=0, forcing_function=None, damping_coefficient=0):\n",
    "    def gradient_function(t, y, spring_constant, mass, forcing_function, damping_coefficient):\n",
    "        position = y[0]\n",
    "        velocity = y[1]\n",
    "        return np.array([velocity, (forcing_function(t) - spring_constant * position - damping_coefficient * velocity) / mass])\n",
    "    \n",
    "    forced = forcing_function is not None\n",
    "    \n",
    "    if forcing_function is None:\n",
    "        forcing_function = lambda t: 0\n",
    "\n",
    "    results = solve_ivp(gradient_function, [output_times[0], output_times[-1]], [initial_position, initial_velocity], args=(spring_constant, mass, forcing_function, damping_coefficient), t_eval=output_times)\n",
    "\n",
    "    if not results.success:\n",
    "        class IntegrationError(Exception):\n",
    "            pass\n",
    "        raise IntegrationError(\"Integration failed\")\n",
    "\n",
    "    fig, axs = plt.subplots(2, 1, figsize=(5, 7), sharex=True)\n",
    "\n",
    "    axs[0].plot(results.t, results.y[0])\n",
    "    axs[0].set_ylabel(\"Position\")\n",
    "\n",
    "    axs[1].plot(results.t, results.y[1])\n",
    "    axs[1].set_ylabel(\"Velocity\")\n",
    "\n",
    "    axs[1].set_xlabel(\"Time\")\n",
    "\n",
    "    title = f\"SHM with k={spring_constant}, m={mass}, x0={initial_position}, v0={initial_velocity}, c={damping_coefficient}\"\n",
    "    if forced:\n",
    "        title += \", with forcing function\"\n",
    "    else:\n",
    "        title += \", without forcing function\"\n",
    "\n",
    "    fig.suptitle(title)\n",
    "    \n",
    "    fig.tight_layout()\n",
    "\n",
    "    return results.t, results.y\n",
    "\n",
    "\n",
    "output_times = np.linspace(0, 10, 1000)\n",
    "get_shm_motion(output_times, 3, 1, 1, damping_coefficient=0.2)\n",
    "\n",
    "output_times = np.linspace(0, 100, 10000)\n",
    "forcing_function = lambda t: 2 * math.sin(2.3 * t)\n",
    "get_shm_motion(output_times, 1, 1, forcing_function=forcing_function);\n"
   ]
  },
  {
   "cell_type": "markdown",
   "metadata": {},
   "source": [
    "## Learning Programming\n",
    "\n",
    "Copilot cannot replace studying and practicing programming. But it can be a very useful supplementary tool that can provide another perspective on a coding construct, technique, or convention. You could pick a topic you're interested in, ask it to explain a concept you're learning about in another way (such as in a course), or ask open-ended questions like \"What is a good way to do [X] in [language]?\" or \"What are some common mistakes people make when using [X] in [language]?\". Experiment, and see what you can learn!\n",
    "\n",
    "If you ask Copilot direct questions such as \"Explain Python list comprehensions to me\" or \"What is a decorator in Python?\" and it will provide a brief explanation. You can also ask it to generate code examples for you to study, or ask follow up questions to clarify its explanation. It may be necessary to specify the language you are interested in, as Copilot may not be able to infer it from the context.\n",
    "\n",
    "If you've asked Copilot to explain a piece of code and it involves techniques you're not familiar with, you can also ask it to elaborate on those techniques. This enables you to segue from understanding a specific piece of code you've come across to learning more about the language or programming in general. This can be a very natural way to learn.\n",
    "\n",
    "### Exercise: Learning Programming\n",
    "\n",
    "Ask Copilot to explain a programming concept, technique or construct you've heard of, but don't fully understand. Ask it to provide examples, or to explain the concept in a different way. Ask follow-up questions to clarify your understanding. If you want some suggestions of topics to ask about, you could ask about:\n",
    "\n",
    "* Error-handling\n",
    "* The Python ```yield``` keyword\n",
    "* Compressed row storage matrices\n",
    "* Decorators in Python\n",
    "* Python list comprehensions\n",
    "* Python dictionaries"
   ]
  }
 ],
 "metadata": {
  "kernelspec": {
   "display_name": "Python 3",
   "language": "python",
   "name": "python3"
  },
  "language_info": {
   "codemirror_mode": {
    "name": "ipython",
    "version": 3
   },
   "file_extension": ".py",
   "mimetype": "text/x-python",
   "name": "python",
   "nbconvert_exporter": "python",
   "pygments_lexer": "ipython3",
   "version": "3.11.9"
  }
 },
 "nbformat": 4,
 "nbformat_minor": 2
}
