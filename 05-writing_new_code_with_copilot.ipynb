{
 "cells": [
  {
   "cell_type": "markdown",
   "metadata": {},
   "source": [
    "# Writing New Code with Copilot\n",
    "\n",
    "We can use Copilot to write new pieces of code. When doing so, the following are useful tips:\n",
    "\n",
    "1. **Provide a description**: Copilot can generate code based on the description you provide. The more detailed the description, the better the code generated.\n",
    "2. **Be specific**: For example, when writing a function, you might specify:\n",
    "    - The types and purposes of arguments\n",
    "    - The return type\n",
    "    - The expected behavior\n",
    "    - Any constraints or requirements\n",
    "    - If and when exceptions should be raised\n",
    "3. **Iterate**: Copilot may not get it right the first time. Describe problems and what you would like done differently. This can be done in chat, or by make iterative changes in the editor.\n",
    "4. **Set the style**: Copilot is aware of other code in the file and can generate code that is consistent with it. Writing some code before asking Copilot to generate more can help it understand the style you are looking for.\n",
    "5. **Be critical of suggestions**: Copilot may generate code that is not correct or not what you want. It is important to review the code and make sure it is correct and does what you want.\n",
    "6. **Test the code**: You should always test code you write, preferably by writing formal tests in a unit-testing framework such as ```unittest``` or ```pytest``` in Python. This is doubly important when using Copilot, as the code may not be correct or may not do what you expect. Copilot can help you write tests.\n",
    "7. **Understand the code**: Copilot cannot replace the need for you to understand the code you're writing. It is best suited to speeding up the production of tasks you could do yourself. It may be able to help you produce code one step more complicated than you could do yourself, but you should make sure you understand what is going on before you use it. This can be a good way to learn new techniques or patterns, and can be aided by asking Copilot for explanations of bits you don't understand. If you try to produce code that is substantially beyond your current abilities, you will likely make mistakes and not understand how to fix them. As a result, you should carry on developing your skills as a programmer instead of relying on Copilot (or any other AI tool) to do the work for you.\n",
    "8. **Break down large tasks**: Copilot is better at generating small pieces of code than large ones. If you have a large task, try to break it down into smaller pieces that you can ask Copilot to generate for you. This will make it easier for Copilot to understand what you want and generate the correct code. Copilot can help you with this process by suggesting ways to break down the task.\n"
   ]
  },
  {
   "cell_type": "markdown",
   "metadata": {},
   "source": [
    "## Example\n",
    "\n",
    "In the code cell below, the tutor will demonstrate how to write a function which accepts a number of data series in a Numpy array, and produces a line plot in Matplotlib."
   ]
  },
  {
   "cell_type": "code",
   "execution_count": null,
   "metadata": {},
   "outputs": [],
   "source": []
  },
  {
   "cell_type": "markdown",
   "metadata": {},
   "source": [
    "## Exercise\n",
    "\n",
    "Set yourself the task of writing a function that you could write yourself in 30-60 minutes. See if you can get Copilot to generate the code for you. While doing this be mindful of the following questions:\n",
    "- Be mindful of what you are asking Copilot to do. What worked well? What didn't?\n",
    "- Is the code correct?\n",
    "- Is it different from what you would have written? Is it better of worse?\n",
    "- Did you learn any new programming techniques?\n"
   ]
  },
  {
   "cell_type": "code",
   "execution_count": null,
   "metadata": {},
   "outputs": [],
   "source": []
  }
 ],
 "metadata": {
  "kernelspec": {
   "display_name": "Python 3",
   "language": "python",
   "name": "python3"
  },
  "language_info": {
   "codemirror_mode": {
    "name": "ipython",
    "version": 3
   },
   "file_extension": ".py",
   "mimetype": "text/x-python",
   "name": "python",
   "nbconvert_exporter": "python",
   "pygments_lexer": "ipython3",
   "version": "3.11.9"
  }
 },
 "nbformat": 4,
 "nbformat_minor": 2
}
